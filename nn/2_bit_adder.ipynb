{
  "nbformat": 4,
  "nbformat_minor": 0,
  "metadata": {
    "colab": {
      "provenance": [],
      "authorship_tag": "ABX9TyPO2a3MvqHs7EYEUZsF+y48",
      "include_colab_link": true
    },
    "kernelspec": {
      "name": "python3",
      "display_name": "Python 3"
    },
    "language_info": {
      "name": "python"
    }
  },
  "cells": [
    {
      "cell_type": "markdown",
      "metadata": {
        "id": "view-in-github",
        "colab_type": "text"
      },
      "source": [
        "<a href=\"https://colab.research.google.com/github/phzfi/ai-course/blob/main/nn/2_bit_adder.ipynb\" target=\"_parent\"><img src=\"https://colab.research.google.com/assets/colab-badge.svg\" alt=\"Open In Colab\"/></a>"
      ]
    },
    {
      "cell_type": "code",
      "execution_count": 2,
      "metadata": {
        "id": "oS4deZFYexJb"
      },
      "outputs": [],
      "source": [
        "import numpy as np\n",
        "import pandas as pd\n",
        "\n",
        "# this can also be generated with np.binary_repr etc.\n",
        "mapping = np.array([[0, 0, 0, 0,  0, 0, 0],\n",
        "                    [0, 0, 0, 1,  0, 0, 1],\n",
        "                    [0, 0, 1, 0,  0, 1, 0],\n",
        "                    [0, 0, 1, 1,  0, 1, 1],\n",
        "                    [0, 1, 0, 0,  0, 0, 1],\n",
        "                    [0, 1, 0, 1,  0, 1, 0],\n",
        "                    [0, 1, 1, 0,  0, 1, 1],\n",
        "                    [0, 1, 1, 1,  1, 0, 0],\n",
        "                    [1, 0, 0, 0,  0, 1, 0],\n",
        "                    [1, 0, 0, 1,  0, 1, 1],\n",
        "                    [1, 0, 1, 0,  1, 0, 0],\n",
        "                    [1, 0, 1, 1,  1, 0, 1],\n",
        "                    [1, 1, 0, 0,  0, 1, 1],\n",
        "                    [1, 1, 0, 1,  1, 0, 1],\n",
        "                    [1, 1, 1, 0,  1, 0, 1],\n",
        "                    [1, 1, 1, 1,  1, 1, 0]])\n",
        "\n",
        "input_values = mapping[:,0:4]\n",
        "output_values = mapping[:,4:]"
      ]
    },
    {
      "cell_type": "code",
      "source": [
        "from tensorflow import keras\n",
        "from tensorflow.keras.models import Sequential\n",
        "from tensorflow.keras.layers import Dense"
      ],
      "metadata": {
        "id": "K46YkTmcFP7l"
      },
      "execution_count": 34,
      "outputs": []
    },
    {
      "cell_type": "code",
      "source": [
        "model = Sequential([\n",
        "    Dense(10, input_dim=4, activation='relu'),\n",
        "    Dense(8, activation='relu'),\n",
        "    Dense(3, activation='sigmoid'),\n",
        "])\n",
        "\n",
        "model.summary()"
      ],
      "metadata": {
        "colab": {
          "base_uri": "https://localhost:8080/"
        },
        "id": "2SmFEoWgGH3m",
        "outputId": "62d4b4a7-fc70-4897-91cb-2bb589fd45ee"
      },
      "execution_count": 43,
      "outputs": [
        {
          "output_type": "stream",
          "name": "stdout",
          "text": [
            "Model: \"sequential_5\"\n",
            "_________________________________________________________________\n",
            " Layer (type)                Output Shape              Param #   \n",
            "=================================================================\n",
            " dense_15 (Dense)            (None, 10)                50        \n",
            "                                                                 \n",
            " dense_16 (Dense)            (None, 8)                 88        \n",
            "                                                                 \n",
            " dense_17 (Dense)            (None, 3)                 27        \n",
            "                                                                 \n",
            "=================================================================\n",
            "Total params: 165 (660.00 Byte)\n",
            "Trainable params: 165 (660.00 Byte)\n",
            "Non-trainable params: 0 (0.00 Byte)\n",
            "_________________________________________________________________\n"
          ]
        }
      ]
    },
    {
      "cell_type": "code",
      "source": [
        "model.compile(loss='binary_crossentropy',\n",
        "              optimizer=keras.optimizers.Adam(),\n",
        "              metrics=['accuracy'])"
      ],
      "metadata": {
        "id": "yGFDTTxDGkIo"
      },
      "execution_count": 44,
      "outputs": []
    },
    {
      "cell_type": "code",
      "source": [
        "history = model.fit(input_values, output_values,\n",
        "                   batch_size=1,\n",
        "                   epochs=1000,\n",
        "                   verbose=0)"
      ],
      "metadata": {
        "collapsed": true,
        "id": "rb-fEoMxGynD"
      },
      "execution_count": 45,
      "outputs": []
    },
    {
      "cell_type": "code",
      "source": [
        "import matplotlib.pyplot as plt\n",
        "\n",
        "def plot_loss(history):\n",
        "  plt.plot(history.history['loss'], label='loss')\n",
        "  plt.plot(history.history['accuracy'], label='accuracy')\n",
        "  plt.ylim([0, 1])\n",
        "  plt.xlabel('Epoch')\n",
        "  plt.ylabel('Error [MPG]')\n",
        "  plt.legend()\n",
        "  plt.grid(True)\n",
        "\n",
        "plot_loss(history)"
      ],
      "metadata": {
        "colab": {
          "base_uri": "https://localhost:8080/",
          "height": 455
        },
        "id": "BOCmvQKnHSie",
        "outputId": "c4292429-477f-4f53-9353-f03bb48b7b3e"
      },
      "execution_count": 46,
      "outputs": [
        {
          "output_type": "display_data",
          "data": {
            "text/plain": [
              "<Figure size 640x480 with 1 Axes>"
            ],
            "image/png": "[encoded data removed]"
          },
          "metadata": {}
        }
      ]
    },
    {
      "cell_type": "code",
      "source": [
        "prediction = model.predict(input_values)\n",
        "np.round(prediction).astype(int)\n"
      ],
      "metadata": {
        "colab": {
          "base_uri": "https://localhost:8080/"
        },
        "id": "aocBo767Urkh",
        "outputId": "8cc9579d-e230-4bb5-d5db-5ad8cf9caef7"
      },
      "execution_count": 54,
      "outputs": [
        {
          "output_type": "stream",
          "name": "stdout",
          "text": [
            "1/1 [==============================] - 0s 61ms/step\n"
          ]
        },
        {
          "output_type": "execute_result",
          "data": {
            "text/plain": [
              "array([[0, 0, 0],\n",
              "       [0, 0, 1],\n",
              "       [0, 1, 0],\n",
              "       [0, 1, 1],\n",
              "       [0, 0, 1],\n",
              "       [0, 1, 0],\n",
              "       [0, 1, 1],\n",
              "       [1, 0, 0],\n",
              "       [0, 1, 0],\n",
              "       [0, 1, 1],\n",
              "       [1, 0, 0],\n",
              "       [1, 0, 1],\n",
              "       [0, 1, 1],\n",
              "       [1, 0, 1],\n",
              "       [1, 0, 1],\n",
              "       [1, 1, 0]])"
            ]
          },
          "metadata": {},
          "execution_count": 54
        }
      ]
    },
    {
      "cell_type": "code",
      "source": [],
      "metadata": {
        "id": "mNyHiCI5ULZO"
      },
      "execution_count": null,
      "outputs": []
    }
  ]
}
