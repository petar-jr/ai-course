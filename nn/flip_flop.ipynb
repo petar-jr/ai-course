{
  "nbformat": 4,
  "nbformat_minor": 0,
  "metadata": {
    "colab": {
      "provenance": [],
      "authorship_tag": "ABX9TyNT/Nvx5xyfZt5jMfNQG8Nb",
      "include_colab_link": true
    },
    "kernelspec": {
      "name": "python3",
      "display_name": "Python 3"
    },
    "language_info": {
      "name": "python"
    }
  },
  "cells": [
    {
      "cell_type": "markdown",
      "metadata": {
        "id": "view-in-github",
        "colab_type": "text"
      },
      "source": [
        "<a href=\"https://colab.research.google.com/github/phzfi/ai-course/blob/main/nn/flip_flop.ipynb\" target=\"_parent\"><img src=\"https://colab.research.google.com/assets/colab-badge.svg\" alt=\"Open In Colab\"/></a>"
      ]
    },
    {
      "cell_type": "code",
      "source": [
        "import numpy as np\n",
        "\n",
        "def generate_bistable_data(seq_length=10, num_sequences=10000):\n",
        "    X = np.random.randint(0, 3, (num_sequences, seq_length, 1))  # 0: reset, 1: set, 2: hold\n",
        "    Y = np.zeros((num_sequences, seq_length, 1))\n",
        "    for i in range(num_sequences):\n",
        "        state = 0\n",
        "        for j in range(seq_length):\n",
        "            if X[i, j] == 0:  # reset\n",
        "                state = 0\n",
        "            elif X[i, j] == 1:  # set\n",
        "                state = 1\n",
        "            Y[i, j] = state\n",
        "    return X, Y\n",
        "\n",
        "# Generate data\n",
        "X, Y = generate_bistable_data()\n",
        "print(\"Input sequences:\\n\", X[:2].reshape(2,10))\n",
        "print(\"Output sequences:\\n\", Y[:2].reshape(2,10))\n"
      ],
      "metadata": {
        "colab": {
          "base_uri": "https://localhost:8080/"
        },
        "id": "uDYFPRUgswCU",
        "outputId": "d26e5038-a800-4be4-aa22-a863808ef49a"
      },
      "execution_count": 15,
      "outputs": [
        {
          "output_type": "stream",
          "name": "stdout",
          "text": [
            "Input sequences:\n",
            " [[0 2 0 0 2 0 2 1 2 1]\n",
            " [1 0 0 2 2 1 2 2 2 2]]\n",
            "Output sequences:\n",
            " [[0. 0. 0. 0. 0. 0. 0. 1. 1. 1.]\n",
            " [1. 0. 0. 0. 0. 1. 1. 1. 1. 1.]]\n"
          ]
        }
      ]
    },
    {
      "cell_type": "code",
      "source": [
        "from tensorflow.keras.models import Sequential\n",
        "from tensorflow.keras.layers import LSTM, Dense, TimeDistributed\n",
        "\n",
        "model = Sequential([\n",
        "    LSTM(10, input_shape=(None, 1), return_sequences=True),\n",
        "    TimeDistributed(Dense(1, activation='sigmoid'))\n",
        "])\n",
        "\n",
        "model.compile(optimizer='adam', loss='binary_crossentropy', metrics=['accuracy'])\n",
        "\n",
        "model.summary()\n"
      ],
      "metadata": {
        "colab": {
          "base_uri": "https://localhost:8080/"
        },
        "id": "ZRdpUCzXxKzM",
        "outputId": "8456500a-1950-4db3-e1de-768294a9f34f"
      },
      "execution_count": 3,
      "outputs": [
        {
          "output_type": "stream",
          "name": "stdout",
          "text": [
            "Model: \"sequential\"\n",
            "_________________________________________________________________\n",
            " Layer (type)                Output Shape              Param #   \n",
            "=================================================================\n",
            " lstm (LSTM)                 (None, None, 8)           320       \n",
            "                                                                 \n",
            " time_distributed (TimeDist  (None, None, 1)           9         \n",
            " ributed)                                                        \n",
            "                                                                 \n",
            "=================================================================\n",
            "Total params: 329 (1.29 KB)\n",
            "Trainable params: 329 (1.29 KB)\n",
            "Non-trainable params: 0 (0.00 Byte)\n",
            "_________________________________________________________________\n"
          ]
        }
      ]
    },
    {
      "cell_type": "code",
      "source": [
        "model.fit(X, Y, epochs=10, batch_size=32, verbose=1, validation_split=0.1)"
      ],
      "metadata": {
        "colab": {
          "base_uri": "https://localhost:8080/"
        },
        "id": "S-s1gFaRx0sB",
        "outputId": "8a23f814-1bd5-46df-8bf1-b222d5b8529b"
      },
      "execution_count": 4,
      "outputs": [
        {
          "output_type": "stream",
          "name": "stdout",
          "text": [
            "Epoch 1/10\n",
            "282/282 [==============================] - 7s 13ms/step - loss: 0.6578 - accuracy: 0.6258 - val_loss: 0.6031 - val_accuracy: 0.6646\n",
            "Epoch 2/10\n",
            "282/282 [==============================] - 2s 8ms/step - loss: 0.5240 - accuracy: 0.7073 - val_loss: 0.4595 - val_accuracy: 0.7939\n",
            "Epoch 3/10\n",
            "282/282 [==============================] - 2s 6ms/step - loss: 0.4077 - accuracy: 0.8094 - val_loss: 0.3706 - val_accuracy: 0.8175\n",
            "Epoch 4/10\n",
            "282/282 [==============================] - 2s 5ms/step - loss: 0.3261 - accuracy: 0.8537 - val_loss: 0.2897 - val_accuracy: 0.9080\n",
            "Epoch 5/10\n",
            "282/282 [==============================] - 2s 6ms/step - loss: 0.2419 - accuracy: 0.9589 - val_loss: 0.2035 - val_accuracy: 0.9799\n",
            "Epoch 6/10\n",
            "282/282 [==============================] - 2s 6ms/step - loss: 0.1647 - accuracy: 0.9853 - val_loss: 0.1345 - val_accuracy: 0.9870\n",
            "Epoch 7/10\n",
            "282/282 [==============================] - 2s 7ms/step - loss: 0.1086 - accuracy: 0.9942 - val_loss: 0.0888 - val_accuracy: 0.9949\n",
            "Epoch 8/10\n",
            "282/282 [==============================] - 2s 8ms/step - loss: 0.0734 - accuracy: 0.9977 - val_loss: 0.0615 - val_accuracy: 0.9985\n",
            "Epoch 9/10\n",
            "282/282 [==============================] - 2s 6ms/step - loss: 0.0519 - accuracy: 0.9991 - val_loss: 0.0445 - val_accuracy: 0.9999\n",
            "Epoch 10/10\n",
            "282/282 [==============================] - 2s 6ms/step - loss: 0.0381 - accuracy: 0.9998 - val_loss: 0.0333 - val_accuracy: 1.0000\n"
          ]
        },
        {
          "output_type": "execute_result",
          "data": {
            "text/plain": [
              "<keras.src.callbacks.History at 0x7d28ea7e74f0>"
            ]
          },
          "metadata": {},
          "execution_count": 4
        }
      ]
    },
    {
      "cell_type": "code",
      "source": [
        "# Evaluate the model\n",
        "loss, accuracy = model.evaluate(X, Y, verbose=0)\n",
        "print(f'Accuracy: {accuracy * 100:.2f}%')\n",
        "\n",
        "# Test the model with some sequences\n",
        "test_sequences, test_labels = generate_bistable_data(num_sequences=5)\n",
        "predictions = model.predict(test_sequences)\n",
        "\n",
        "print(\"Test sequences:\")\n",
        "print(test_sequences.reshape(5,10))\n",
        "print(\"\\nPredictions (rounded):\")\n",
        "print(np.round(predictions.reshape(5,10)).astype(int))\n",
        "print(\"\\nActual:\")\n",
        "print(test_labels.reshape(5,10).astype(int))\n"
      ],
      "metadata": {
        "colab": {
          "base_uri": "https://localhost:8080/"
        },
        "id": "qkveR49JyEbJ",
        "outputId": "4d29896c-4b85-4f68-8563-63adaeeffd22"
      },
      "execution_count": 12,
      "outputs": [
        {
          "output_type": "stream",
          "name": "stdout",
          "text": [
            "Accuracy: 100.00%\n",
            "1/1 [==============================] - 0s 22ms/step\n",
            "Test sequences:\n",
            "[[1 1 2 2 2 2 2 1 1 1]\n",
            " [0 0 0 2 1 1 0 2 2 2]\n",
            " [1 2 0 2 0 2 0 2 2 0]\n",
            " [1 2 1 2 0 2 2 2 1 2]\n",
            " [1 0 1 2 0 2 2 1 0 0]]\n",
            "\n",
            "Predictions (rounded):\n",
            "[[1 1 1 1 1 1 1 1 1 1]\n",
            " [0 0 0 0 1 1 0 0 0 0]\n",
            " [1 1 0 0 0 0 0 0 0 0]\n",
            " [1 1 1 1 0 0 0 0 1 1]\n",
            " [1 0 1 1 0 0 0 1 0 0]]\n",
            "\n",
            "Actual:\n",
            "[[1 1 1 1 1 1 1 1 1 1]\n",
            " [0 0 0 0 1 1 0 0 0 0]\n",
            " [1 1 0 0 0 0 0 0 0 0]\n",
            " [1 1 1 1 0 0 0 0 1 1]\n",
            " [1 0 1 1 0 0 0 1 0 0]]\n"
          ]
        }
      ]
    },
    {
      "cell_type": "code",
      "source": [],
      "metadata": {
        "id": "RQZs83eNyRd1"
      },
      "execution_count": 5,
      "outputs": []
    }
  ]
}
